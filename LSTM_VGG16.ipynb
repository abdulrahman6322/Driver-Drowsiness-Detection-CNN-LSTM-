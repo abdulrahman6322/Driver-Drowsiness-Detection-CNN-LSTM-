{
  "nbformat": 4,
  "nbformat_minor": 0,
  "metadata": {
    "colab": {
      "provenance": [],
      "gpuType": "T4"
    },
    "kernelspec": {
      "name": "python3",
      "display_name": "Python 3"
    },
    "language_info": {
      "name": "python"
    },
    "accelerator": "GPU"
  },
  "cells": [
    {
      "cell_type": "code",
      "execution_count": 2,
      "metadata": {
        "id": "_XAk6w0Eea_R"
      },
      "outputs": [],
      "source": [
        "import os\n",
        "import numpy as np\n",
        "import tensorflow as tf\n",
        "from tensorflow.keras.preprocessing.image import ImageDataGenerator\n",
        "from tensorflow.keras.applications import VGG16\n",
        "from tensorflow.keras.models import Model, Sequential, load_model\n",
        "from tensorflow.keras.layers import LSTM, Dense, Flatten, TimeDistributed, Dropout ,Bidirectional, Input, GlobalAveragePooling2D\n",
        "from sklearn.model_selection import train_test_split\n",
        "from tensorflow.keras.utils import to_categorical\n",
        "from glob import glob\n",
        "import cv2\n"
      ]
    },
    {
      "cell_type": "markdown",
      "source": [
        "# Data Loading & Preparation\n"
      ],
      "metadata": {
        "id": "HJ4i_-Pae0Ho"
      }
    },
    {
      "cell_type": "code",
      "source": [
        "! pip install opendatasets"
      ],
      "metadata": {
        "colab": {
          "base_uri": "https://localhost:8080/"
        },
        "id": "_mdOcc5QkLvO",
        "outputId": "1c96bbf5-bc8f-4bdf-d496-aabd814d7b7b"
      },
      "execution_count": 3,
      "outputs": [
        {
          "output_type": "stream",
          "name": "stdout",
          "text": [
            "Requirement already satisfied: opendatasets in /usr/local/lib/python3.11/dist-packages (0.1.22)\n",
            "Requirement already satisfied: tqdm in /usr/local/lib/python3.11/dist-packages (from opendatasets) (4.67.1)\n",
            "Requirement already satisfied: kaggle in /usr/local/lib/python3.11/dist-packages (from opendatasets) (1.7.4.2)\n",
            "Requirement already satisfied: click in /usr/local/lib/python3.11/dist-packages (from opendatasets) (8.1.8)\n",
            "Requirement already satisfied: bleach in /usr/local/lib/python3.11/dist-packages (from kaggle->opendatasets) (6.2.0)\n",
            "Requirement already satisfied: certifi>=14.05.14 in /usr/local/lib/python3.11/dist-packages (from kaggle->opendatasets) (2025.1.31)\n",
            "Requirement already satisfied: charset-normalizer in /usr/local/lib/python3.11/dist-packages (from kaggle->opendatasets) (3.4.1)\n",
            "Requirement already satisfied: idna in /usr/local/lib/python3.11/dist-packages (from kaggle->opendatasets) (3.10)\n",
            "Requirement already satisfied: protobuf in /usr/local/lib/python3.11/dist-packages (from kaggle->opendatasets) (5.29.3)\n",
            "Requirement already satisfied: python-dateutil>=2.5.3 in /usr/local/lib/python3.11/dist-packages (from kaggle->opendatasets) (2.8.2)\n",
            "Requirement already satisfied: python-slugify in /usr/local/lib/python3.11/dist-packages (from kaggle->opendatasets) (8.0.4)\n",
            "Requirement already satisfied: requests in /usr/local/lib/python3.11/dist-packages (from kaggle->opendatasets) (2.32.3)\n",
            "Requirement already satisfied: setuptools>=21.0.0 in /usr/local/lib/python3.11/dist-packages (from kaggle->opendatasets) (75.1.0)\n",
            "Requirement already satisfied: six>=1.10 in /usr/local/lib/python3.11/dist-packages (from kaggle->opendatasets) (1.17.0)\n",
            "Requirement already satisfied: text-unidecode in /usr/local/lib/python3.11/dist-packages (from kaggle->opendatasets) (1.3)\n",
            "Requirement already satisfied: urllib3>=1.15.1 in /usr/local/lib/python3.11/dist-packages (from kaggle->opendatasets) (2.3.0)\n",
            "Requirement already satisfied: webencodings in /usr/local/lib/python3.11/dist-packages (from kaggle->opendatasets) (0.5.1)\n"
          ]
        }
      ]
    },
    {
      "cell_type": "code",
      "source": [
        "import opendatasets as od\n",
        "od.download(\"https://www.kaggle.com/datasets/yasharjebraeily/drowsy-detection-dataset\")"
      ],
      "metadata": {
        "colab": {
          "base_uri": "https://localhost:8080/"
        },
        "id": "c0M97yuek0T7",
        "outputId": "826446db-e1e2-436f-ac8a-4ccd83ec4cbc"
      },
      "execution_count": 4,
      "outputs": [
        {
          "output_type": "stream",
          "name": "stdout",
          "text": [
            "Skipping, found downloaded files in \"./drowsy-detection-dataset\" (use force=True to force download)\n"
          ]
        }
      ]
    },
    {
      "cell_type": "code",
      "source": [
        "# Set parameters\n",
        "IMG_SIZE = (224, 224)\n",
        "SEQUENCE_LENGTH = 10  # Number of frames in sequence\n",
        "BATCH_SIZE = 16\n",
        "EPOCHS = 20"
      ],
      "metadata": {
        "id": "3CcenMTte8AD"
      },
      "execution_count": 5,
      "outputs": []
    },
    {
      "cell_type": "code",
      "source": [
        "DATASET_PATH = \"/content/drowsy-detection-dataset/Drowsy_datset\"\n",
        "TRAIN_PATH = os.path.join(DATASET_PATH, \"train\")\n",
        "TEST_PATH = os.path.join(DATASET_PATH, \"test\")"
      ],
      "metadata": {
        "id": "VueKEKwhKbrG"
      },
      "execution_count": 6,
      "outputs": []
    },
    {
      "cell_type": "code",
      "source": [
        "# Verify and access class directories\n",
        "sub_dirs = []\n",
        "if os.path.isdir(DATASET_PATH):\n",
        "    sub_dirs = [os.path.join(DATASET_PATH, sub_dir) for sub_dir in os.listdir(DATASET_PATH) if os.path.isdir(os.path.join(DATASET_PATH, sub_dir))]\n",
        "    print(\"Subdirectories inside dataset:\", sub_dirs)\n",
        "    for sub_dir in sub_dirs:\n",
        "        files = os.listdir(sub_dir)\n",
        "        print(f\"Files in '{sub_dir}':\", files[:4])"
      ],
      "metadata": {
        "colab": {
          "base_uri": "https://localhost:8080/"
        },
        "id": "_uBdVDIv_Qt9",
        "outputId": "7b55f10d-c42c-4d97-fffd-f0bc2b8cbe71"
      },
      "execution_count": 7,
      "outputs": [
        {
          "output_type": "stream",
          "name": "stdout",
          "text": [
            "Subdirectories inside dataset: ['/content/drowsy-detection-dataset/Drowsy_datset/train', '/content/drowsy-detection-dataset/Drowsy_datset/test']\n",
            "Files in '/content/drowsy-detection-dataset/Drowsy_datset/train': ['NATURAL', 'DROWSY']\n",
            "Files in '/content/drowsy-detection-dataset/Drowsy_datset/test': ['NATURAL', 'DROWSY']\n"
          ]
        }
      ]
    },
    {
      "cell_type": "code",
      "source": [
        "# Image Data Generator for efficient loading\n",
        "datagen = ImageDataGenerator(rescale=1./255, validation_split=0.2)\n",
        "\n",
        "train_generator = datagen.flow_from_directory(\n",
        "    TRAIN_PATH,\n",
        "    target_size=IMG_SIZE,\n",
        "    batch_size=1,  # Generate one image at a time for sequences\n",
        "    class_mode='categorical',\n",
        "    subset='training'\n",
        ")\n",
        "\n",
        "val_generator = datagen.flow_from_directory(\n",
        "    TRAIN_PATH,\n",
        "    target_size=IMG_SIZE,\n",
        "    batch_size=1,  # Generate one image at a time for sequences\n",
        "    class_mode='categorical',\n",
        "    subset='validation'\n",
        ")\n",
        "\n",
        "# Custom sequence generator\n",
        "def sequence_generator(image_generator, batch_size, timesteps):\n",
        "    while True:\n",
        "        batch_images = []\n",
        "        batch_labels = []\n",
        "        for _ in range(batch_size):\n",
        "            sequence_images = []\n",
        "            for _ in range(timesteps):\n",
        "                img, label = next(image_generator)\n",
        "                sequence_images.append(img[0])  # Extract image from batch\n",
        "            batch_images.append(np.stack(sequence_images, axis=0))\n",
        "            batch_labels.append(label[0])  # Extract label from batch\n",
        "        yield np.array(batch_images), np.array(batch_labels)\n",
        "\n",
        "train_sequence_generator = sequence_generator(train_generator, BATCH_SIZE, SEQUENCE_LENGTH)\n",
        "val_sequence_generator = sequence_generator(val_generator, BATCH_SIZE, SEQUENCE_LENGTH)\n"
      ],
      "metadata": {
        "colab": {
          "base_uri": "https://localhost:8080/"
        },
        "id": "cOmfuSmsMLo2",
        "outputId": "9c91225f-dbdb-4940-a172-bda92088a86a"
      },
      "execution_count": 15,
      "outputs": [
        {
          "output_type": "stream",
          "name": "stdout",
          "text": [
            "Found 4688 images belonging to 2 classes.\n",
            "Found 1171 images belonging to 2 classes.\n"
          ]
        }
      ]
    },
    {
      "cell_type": "markdown",
      "source": [
        "# CNN(VGG16 FineTuned)"
      ],
      "metadata": {
        "id": "bCvIOAPQnraP"
      }
    },
    {
      "cell_type": "markdown",
      "source": [
        "FineTuned VGG16"
      ],
      "metadata": {
        "id": "EWLrh-w83sbU"
      }
    },
    {
      "cell_type": "markdown",
      "source": [
        "CNN-LSTM Model"
      ],
      "metadata": {
        "id": "nmZLRH-bLxib"
      }
    },
    {
      "cell_type": "code",
      "source": [
        "# Load pre-trained VGG16 model\n",
        "base_model = VGG16(weights='imagenet', include_top=False, input_shape=(224, 224, 3))\n",
        "\n",
        "# Unfreeze last few layers for fine-tuning\n",
        "for layer in base_model.layers[-6:]:\n",
        "    layer.trainable = True\n",
        "\n",
        "# Feature extractor model\n",
        "feature_extractor = Model(inputs=base_model.input, outputs=base_model.output)\n",
        "\n",
        "# Build CNN-LSTM Model\n",
        "model = Sequential([\n",
        "    TimeDistributed(feature_extractor, input_shape=(SEQUENCE_LENGTH, 224, 224, 3)),\n",
        "    TimeDistributed(Flatten()),\n",
        "    Bidirectional(LSTM(128, return_sequences=True)),\n",
        "    Dropout(0.5),\n",
        "    Bidirectional(LSTM(64, return_sequences=False)),\n",
        "    Dropout(0.5),\n",
        "    Dense(32, activation='relu'),\n",
        "    Dense(train_generator.num_classes, activation='softmax')  # Multi-class classification\n",
        "])\n",
        "\n",
        "# Compile model\n",
        "model.compile(optimizer='adam', loss='categorical_crossentropy', metrics=['accuracy'])\n"
      ],
      "metadata": {
        "id": "ULLfid5iO2E4"
      },
      "execution_count": 16,
      "outputs": []
    },
    {
      "cell_type": "code",
      "source": [
        "model.fit(\n",
        "    train_sequence_generator,\n",
        "    steps_per_epoch=len(train_generator) // BATCH_SIZE,\n",
        "    validation_data=val_sequence_generator,\n",
        "    validation_steps=len(val_generator) // BATCH_SIZE,\n",
        "    epochs=EPOCHS\n",
        ")"
      ],
      "metadata": {
        "colab": {
          "base_uri": "https://localhost:8080/"
        },
        "id": "nMXIbJVTO5i6",
        "outputId": "803c0ddf-0801-48b6-b161-b3208db8e33c"
      },
      "execution_count": null,
      "outputs": [
        {
          "output_type": "stream",
          "name": "stdout",
          "text": [
            "Epoch 1/20\n",
            "\u001b[1m293/293\u001b[0m \u001b[32m━━━━━━━━━━━━━━━━━━━━\u001b[0m\u001b[37m\u001b[0m \u001b[1m677s\u001b[0m 2s/step - accuracy: 0.5106 - loss: 0.7096 - val_accuracy: 0.4546 - val_loss: 0.7066\n",
            "Epoch 2/20\n",
            "\u001b[1m293/293\u001b[0m \u001b[32m━━━━━━━━━━━━━━━━━━━━\u001b[0m\u001b[37m\u001b[0m \u001b[1m683s\u001b[0m 2s/step - accuracy: 0.5155 - loss: 0.6959 - val_accuracy: 0.4863 - val_loss: 0.6934\n",
            "Epoch 3/20\n",
            "\u001b[1m124/293\u001b[0m \u001b[32m━━━━━━━━\u001b[0m\u001b[37m━━━━━━━━━━━━\u001b[0m \u001b[1m5:49\u001b[0m 2s/step - accuracy: 0.5203 - loss: 0.6927"
          ]
        }
      ]
    },
    {
      "cell_type": "code",
      "source": [],
      "metadata": {
        "id": "fg47_KzsO7wW"
      },
      "execution_count": null,
      "outputs": []
    }
  ]
}